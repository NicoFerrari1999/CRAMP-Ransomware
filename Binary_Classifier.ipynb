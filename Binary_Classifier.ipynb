{
  "nbformat": 4,
  "nbformat_minor": 0,
  "metadata": {
    "colab": {
      "provenance": [],
      "collapsed_sections": [
        "b-1o7ZWC_1Z7",
        "_vmVM-Yz_8F1",
        "HrmP6vQjQa7N"
      ]
    },
    "kernelspec": {
      "name": "python3",
      "display_name": "Python 3"
    },
    "language_info": {
      "name": "python"
    }
  },
  "cells": [
    {
      "cell_type": "code",
      "execution_count": null,
      "metadata": {
        "id": "fXmPNysAfNBn"
      },
      "outputs": [],
      "source": [
        "from google.colab import drive\n",
        "import pandas as pd\n",
        "import numpy as np\n",
        "from matplotlib import pyplot as plt\n",
        "from imblearn.under_sampling import RandomUnderSampler\n",
        "import tensorflow as tf\n",
        "from tensorflow.keras import layers, models\n",
        "from keras.metrics import TopKCategoricalAccuracy\n",
        "from keras.utils import to_categorical\n",
        "from sklearn.model_selection import train_test_split\n",
        "from keras.layers import Dense, Dropout\n",
        "from keras.models import Sequential\n",
        "from sklearn.metrics import classification_report\n",
        "from tensorflow.keras.callbacks import EarlyStopping\n",
        "from sklearn.model_selection import KFold\n",
        "from sklearn.metrics import precision_score, accuracy_score, recall_score, f1_score"
      ]
    },
    {
      "cell_type": "code",
      "source": [
        "drive.mount('/content/drive')"
      ],
      "metadata": {
        "id": "OHTaL38XfU52",
        "colab": {
          "base_uri": "https://localhost:8080/"
        },
        "outputId": "04ecca82-6d51-4d87-c702-3b6904024624"
      },
      "execution_count": null,
      "outputs": [
        {
          "output_type": "stream",
          "name": "stdout",
          "text": [
            "Mounted at /content/drive\n"
          ]
        }
      ]
    },
    {
      "cell_type": "code",
      "source": [
        "df = pd.read_csv(\"/content/drive/MyDrive/Samples/Binary_Dataset.csv\")"
      ],
      "metadata": {
        "id": "zqT6muLxfVfJ"
      },
      "execution_count": null,
      "outputs": []
    },
    {
      "cell_type": "code",
      "source": [
        "df.info()"
      ],
      "metadata": {
        "id": "HeXF5swh8-L0",
        "colab": {
          "base_uri": "https://localhost:8080/"
        },
        "outputId": "b1517e68-69e7-4c54-b750-c0d0f617ef99"
      },
      "execution_count": null,
      "outputs": [
        {
          "output_type": "stream",
          "name": "stdout",
          "text": [
            "<class 'pandas.core.frame.DataFrame'>\n",
            "RangeIndex: 1956 entries, 0 to 1955\n",
            "Data columns (total 3 columns):\n",
            " #   Column    Non-Null Count  Dtype \n",
            "---  ------    --------------  ----- \n",
            " 0   Name      1956 non-null   object\n",
            " 1   Sequence  1949 non-null   object\n",
            " 2   Label     1956 non-null   int64 \n",
            "dtypes: int64(1), object(2)\n",
            "memory usage: 46.0+ KB\n"
          ]
        }
      ]
    },
    {
      "source": [
        "label_counts = df['Label'].value_counts()\n",
        "\n",
        "plt.bar(label_counts.index.astype(int), label_counts.values)\n",
        "\n",
        "plt.xlabel('Label')\n",
        "plt.ylabel('Number of Samples')\n",
        "plt.title('Original Binary Classification Dataset')\n",
        "\n",
        "plt.xticks([0, 1], ['Benign', 'Malicious'])\n",
        "\n",
        "for i, count in enumerate(label_counts.values):\n",
        "    plt.text(label_counts.index[i], count, str(count), ha='center', va='bottom')\n",
        "\n",
        "plt.show()"
      ],
      "cell_type": "code",
      "metadata": {
        "colab": {
          "base_uri": "https://localhost:8080/",
          "height": 472
        },
        "id": "tSQIMJe251cp",
        "outputId": "c1bf6518-5aa1-4e80-986b-78a23e70fdd6"
      },
      "execution_count": null,
      "outputs": [
        {
          "output_type": "display_data",
          "data": {
            "text/plain": [
              "<Figure size 640x480 with 1 Axes>"
            ],
            "image/png": "[encoded data removed]"
          },
          "metadata": {}
        }
      ]
    },
    {
      "cell_type": "code",
      "source": [
        "df.dropna(inplace=True)\n",
        "\n",
        "X = df.drop('Label', axis=1)\n",
        "y = df['Label']\n",
        "\n",
        "rus = RandomUnderSampler(random_state=22)\n",
        "\n",
        "X_resampled, y_resampled = rus.fit_resample(X, y)\n",
        "\n",
        "df = pd.concat([pd.DataFrame(X_resampled, columns=X.columns), pd.DataFrame(y_resampled, columns=['Label'])], axis=1)"
      ],
      "metadata": {
        "id": "l8pbcyli9HVl"
      },
      "execution_count": null,
      "outputs": []
    },
    {
      "cell_type": "code",
      "source": [
        "label_counts = df['Label'].value_counts()\n",
        "\n",
        "plt.bar(label_counts.index.astype(int), label_counts.values)\n",
        "\n",
        "plt.xlabel('Label')\n",
        "plt.ylabel('Number of Samples')\n",
        "plt.title('Preprocessed Binary Classification Dataset')\n",
        "\n",
        "plt.xticks([0, 1], ['Benign', 'Malicious'])\n",
        "\n",
        "for i, count in enumerate(label_counts.values):\n",
        "    plt.text(label_counts.index[i], count, str(count), ha='center', va='bottom')\n",
        "\n",
        "plt.show()"
      ],
      "metadata": {
        "colab": {
          "base_uri": "https://localhost:8080/",
          "height": 472
        },
        "id": "FrVIVkMqHTht",
        "outputId": "932a5d06-74ae-46bd-dec3-a28abb54aa50"
      },
      "execution_count": null,
      "outputs": [
        {
          "output_type": "display_data",
          "data": {
            "text/plain": [
              "<Figure size 640x480 with 1 Axes>"
            ],
            "image/png": "[encoded data removed]"
          },
          "metadata": {}
        }
      ]
    },
    {
      "cell_type": "markdown",
      "source": [
        "# PREPROCESSING FUNCTIONS"
      ],
      "metadata": {
        "id": "b-1o7ZWC_1Z7"
      }
    },
    {
      "cell_type": "code",
      "source": [
        "def strip_sequences(df, column_name):\n",
        "  stripped_seq = df[column_name].apply(lambda x: [item.strip() for item in x.split(\",\")]).tolist()\n",
        "  return stripped_seq"
      ],
      "metadata": {
        "id": "wN4sN5jR4ON9"
      },
      "execution_count": null,
      "outputs": []
    },
    {
      "cell_type": "code",
      "source": [
        "from collections import defaultdict\n",
        "\n",
        "def markov_mtrx(sequence):\n",
        "\n",
        "  transitions = defaultdict(lambda: defaultdict(int))\n",
        "\n",
        "  unique_calls = []\n",
        "  for i in range(len(sequence) - 1):\n",
        "    current_call = sequence[i]\n",
        "    next_call = sequence[i+1]\n",
        "    transitions[current_call][next_call] += 1\n",
        "    if current_call not in unique_calls:\n",
        "      unique_calls.append(current_call)\n",
        "\n",
        "  df_probabilities = pd.DataFrame(index=unique_calls, columns=unique_calls)\n",
        "\n",
        "  for row in unique_calls:\n",
        "      total_transitions = sum(transitions[row].values())\n",
        "      for col in unique_calls:\n",
        "          if total_transitions > 0:\n",
        "              df_probabilities.at[row, col] = transitions[row][col] / total_transitions\n",
        "          else:\n",
        "              df_probabilities.at[row, col] = 0\n",
        "\n",
        "  df_probabilities = df_probabilities.fillna(0)\n",
        "  return df_probabilities"
      ],
      "metadata": {
        "id": "Zr92SPAt6AOf"
      },
      "execution_count": null,
      "outputs": []
    },
    {
      "cell_type": "code",
      "source": [
        "def create_markov_mrtx_list(data):\n",
        "  datalist = []\n",
        "  for sequence in data:\n",
        "    datalist.append(markov_mtrx(sequence).values)\n",
        "\n",
        "  return datalist"
      ],
      "metadata": {
        "id": "lCQERcY7zjfm"
      },
      "execution_count": null,
      "outputs": []
    },
    {
      "cell_type": "code",
      "source": [
        "def scale_values(matrix):\n",
        "  return (matrix * 255).astype(np.uint8)"
      ],
      "metadata": {
        "id": "IrasMp07_xcm"
      },
      "execution_count": null,
      "outputs": []
    },
    {
      "cell_type": "code",
      "source": [
        "from PIL import Image\n",
        "import numpy as np\n",
        "\n",
        "def create_image(scaled_matrix):\n",
        "\n",
        "  # Create a PIL Image object from the array\n",
        "  image = Image.fromarray(scaled_matrix, mode='L')  # 'L' mode is for grayscale\n",
        "\n",
        "  return image"
      ],
      "metadata": {
        "id": "YInz9PJFCRql"
      },
      "execution_count": null,
      "outputs": []
    },
    {
      "cell_type": "code",
      "source": [
        "def images_max_size(images):\n",
        "  tuple_seq = []\n",
        "  for image in images:\n",
        "    tuple_seq.append(image.size)\n",
        "\n",
        "  return max(tuple_seq, key=lambda x: x[1])"
      ],
      "metadata": {
        "id": "_CXjDqZyw2r5"
      },
      "execution_count": null,
      "outputs": []
    },
    {
      "cell_type": "code",
      "source": [
        "import cv2\n",
        "\n",
        "def add_padding(image, max_size):\n",
        "  image_np = np.array(image)\n",
        "\n",
        "  if image.size == max_size:\n",
        "    return image\n",
        "  else:\n",
        "    pad_width = max_size[0] - image.size[0]\n",
        "    pad_height = max_size[1] - image.size[1]\n",
        "\n",
        "    top_pad = pad_height // 2\n",
        "    bottom_pad = pad_height - top_pad\n",
        "    left_pad = pad_width // 2\n",
        "    right_pad = pad_width - left_pad\n",
        "\n",
        "    padded_image = cv2.copyMakeBorder(image_np, top_pad, bottom_pad, left_pad, right_pad, cv2.BORDER_CONSTANT, value=0)\n",
        "    return Image.fromarray(padded_image)"
      ],
      "metadata": {
        "id": "fLA02_OSxNZB"
      },
      "execution_count": null,
      "outputs": []
    },
    {
      "cell_type": "code",
      "source": [
        "def convert_images_to_arrays(image_objects):\n",
        "    image_arrays = []\n",
        "    for img_obj in image_objects:\n",
        "        img_array = np.array(img_obj)\n",
        "        image_arrays.append(img_array)\n",
        "    return np.array(image_arrays)"
      ],
      "metadata": {
        "id": "7Tl_SQV1qOlI"
      },
      "execution_count": null,
      "outputs": []
    },
    {
      "cell_type": "code",
      "source": [
        "from tensorflow.keras.layers import BatchNormalization\n",
        "\n",
        "def build_CNN(outputs, height, width, channels):\n",
        "    model = models.Sequential()\n",
        "\n",
        "    model.add(layers.Conv2D(32, (3, 3), activation='relu', input_shape=(height, width, channels)))\n",
        "    model.add(BatchNormalization())\n",
        "    model.add(layers.MaxPooling2D((2, 2)))\n",
        "\n",
        "    model.add(layers.Conv2D(64, (3, 3), activation='relu'))\n",
        "    model.add(BatchNormalization())\n",
        "    model.add(layers.MaxPooling2D((2, 2)))\n",
        "\n",
        "    model.add(layers.Conv2D(128, (3, 3), activation='relu'))\n",
        "    model.add(BatchNormalization())\n",
        "    model.add(layers.MaxPooling2D((2, 2)))\n",
        "\n",
        "    model.add(layers.Flatten())\n",
        "\n",
        "    model.add(layers.Dense(128, activation='relu'))\n",
        "    model.add(layers.Dense(outputs, activation='sigmoid'))\n",
        "\n",
        "    model.compile(optimizer='adam', loss='sparse_categorical_crossentropy', metrics=['accuracy'])\n",
        "\n",
        "    return model"
      ],
      "metadata": {
        "id": "hMY1TUJeExuf"
      },
      "execution_count": null,
      "outputs": []
    },
    {
      "cell_type": "markdown",
      "source": [
        "# TEST"
      ],
      "metadata": {
        "id": "_vmVM-Yz_8F1"
      }
    },
    {
      "cell_type": "code",
      "source": [
        "data = strip_sequences(df=df, column_name=\"Sequence\")\n",
        "a = create_markov_mrtx_list(data)\n",
        "scaled_a = []\n",
        "\n",
        "for element in a:\n",
        "  scaled_a.append(scale_values(element))"
      ],
      "metadata": {
        "id": "U1dxkBZq8YNx"
      },
      "execution_count": null,
      "outputs": []
    },
    {
      "cell_type": "code",
      "source": [
        "images_a = []\n",
        "for i in scaled_a:\n",
        "  images_a.append(create_image(i))"
      ],
      "metadata": {
        "id": "O108dUfXDdYP"
      },
      "execution_count": null,
      "outputs": []
    },
    {
      "cell_type": "code",
      "source": [
        "padded_imgs = []\n",
        "for image in images_a:\n",
        "  padded_imgs.append(add_padding(image, images_max_size(images_a)))"
      ],
      "metadata": {
        "id": "b9b5HdOUAYvo"
      },
      "execution_count": null,
      "outputs": []
    },
    {
      "cell_type": "code",
      "source": [
        "df[\"Image\"] = images_a"
      ],
      "metadata": {
        "id": "KBpoOAy0JEYN"
      },
      "execution_count": null,
      "outputs": []
    },
    {
      "cell_type": "code",
      "source": [
        "df[\"Padded_Image\"] = padded_imgs"
      ],
      "metadata": {
        "id": "9T-X1Nj64Zww"
      },
      "execution_count": null,
      "outputs": []
    },
    {
      "cell_type": "code",
      "source": [
        "df[\"Padded_Image\"]"
      ],
      "metadata": {
        "colab": {
          "base_uri": "https://localhost:8080/"
        },
        "id": "7n6Ctg7lHH3-",
        "outputId": "f308657b-2a2b-4db1-eebf-57631cc81596"
      },
      "execution_count": null,
      "outputs": [
        {
          "output_type": "execute_result",
          "data": {
            "text/plain": [
              "0       <PIL.Image.Image image mode=L size=152x152 at ...\n",
              "1       <PIL.Image.Image image mode=L size=152x152 at ...\n",
              "2       <PIL.Image.Image image mode=L size=152x152 at ...\n",
              "3       <PIL.Image.Image image mode=L size=152x152 at ...\n",
              "4       <PIL.Image.Image image mode=L size=152x152 at ...\n",
              "                              ...                        \n",
              "1921    <PIL.Image.Image image mode=L size=152x152 at ...\n",
              "1922    <PIL.Image.Image image mode=L size=152x152 at ...\n",
              "1923    <PIL.Image.Image image mode=L size=152x152 at ...\n",
              "1924    <PIL.Image.Image image mode=L size=152x152 at ...\n",
              "1925    <PIL.Image.Image image mode=L size=152x152 at ...\n",
              "Name: Padded_Image, Length: 1926, dtype: object"
            ]
          },
          "metadata": {},
          "execution_count": 23
        }
      ]
    },
    {
      "cell_type": "markdown",
      "source": [
        "# ONLY TO SAVE THE IMAGES AND THE DATASET"
      ],
      "metadata": {
        "id": "HrmP6vQjQa7N"
      }
    },
    {
      "cell_type": "code",
      "source": [
        "for index, row in df.iterrows():\n",
        "    name = row['Name']\n",
        "    img = row['Image']\n",
        "    if row['Label'] == 0:\n",
        "      img.save(\"/content/drive/MyDrive/Samples/Imgs/Binary_Imgs/Original/Safe/\"+name.strip(\".json\")+\".jpeg\")\n",
        "    else:\n",
        "      img.save(\"/content/drive/MyDrive/Samples/Imgs/Binary_Imgs/Original/Malicious/\"+name.strip(\".json\")+\".jpeg\")"
      ],
      "metadata": {
        "id": "ETbZ3Fl8Ny4h"
      },
      "execution_count": null,
      "outputs": []
    },
    {
      "cell_type": "code",
      "source": [
        "df.to_csv(\"/content/drive/MyDrive/Samples/Image_Binary_Dataset.csv\", index=False)"
      ],
      "metadata": {
        "id": "PczKN1fbO5MN"
      },
      "execution_count": null,
      "outputs": []
    },
    {
      "cell_type": "markdown",
      "source": [
        "# **RESULTS**\n",
        "\n",
        "* #### **Precision:** 0.9775\n",
        "* #### **Accuracy:** 0.9773\n",
        "* #### **Recall:** 0.9773\n",
        "* #### **F1-Score:** 0.9773\n",
        "* #### **Precision Standard Deviation:** 0.020\n",
        "* #### **Accuracy Standard Deviation:** 0.020\n",
        "* #### **Recall Standard Deviation:** 0.020\n",
        "* #### **F1-Score Standard Deviation:** 0.020"
      ],
      "metadata": {
        "id": "yIp-YJHrQlAX"
      }
    },
    {
      "cell_type": "code",
      "source": [
        "avg_p = []\n",
        "avg_a = []\n",
        "avg_r = []\n",
        "avg_f = []\n",
        "\n",
        "precision_values = []\n",
        "accuracy_values = []\n",
        "recall_values = []\n",
        "f1_values = []\n",
        "\n",
        "X, y = convert_images_to_arrays(df[\"Padded_Image\"]), np.array(df[\"Label\"].tolist())\n",
        "\n",
        "num_folds = 3\n",
        "\n",
        "for i in range(3):\n",
        "  print(\"Running iteration number:\", i)\n",
        "  kf = KFold(n_splits=num_folds, shuffle=True, random_state=22)\n",
        "\n",
        "  precisions = []\n",
        "  accuracies = []\n",
        "  recalls = []\n",
        "  f1s = []\n",
        "\n",
        "  model = build_CNN(2, 152, 152, 1)\n",
        "\n",
        "  fold_number = 1\n",
        "  for train_index, test_index in kf.split(X):\n",
        "\n",
        "    print(f\"Fold: {fold_number}\")\n",
        "    X_train, X_test = X[train_index], X[test_index]\n",
        "    y_train, y_test = y[train_index], y[test_index]\n",
        "\n",
        "    early_stopping = EarlyStopping(monitor='val_accuracy', patience=2, verbose=1, restore_best_weights=True)\n",
        "\n",
        "    model.fit(X_train, y_train, verbose=1, epochs=20, validation_data=(X_test, y_test), callbacks=[early_stopping])\n",
        "\n",
        "    predictions = model.predict(X_test)\n",
        "\n",
        "    multiclass_predictions = np.argmax(predictions, axis=1)\n",
        "\n",
        "    precision = precision_score(y_test, multiclass_predictions, average='weighted', zero_division=0)\n",
        "    accuracy = accuracy_score(y_test, multiclass_predictions)\n",
        "    recall = recall_score(y_test, multiclass_predictions, average='weighted', zero_division=0)\n",
        "    f1 = f1_score(y_test, multiclass_predictions, average='weighted')\n",
        "\n",
        "    print(precision, accuracy)\n",
        "\n",
        "    precisions.append(precision)\n",
        "    accuracies.append(accuracy)\n",
        "    recalls.append(recall)\n",
        "    f1s.append(f1)\n",
        "\n",
        "    fold_number = fold_number + 1\n",
        "\n",
        "  avg_p.append(np.mean(precisions))\n",
        "  avg_a.append(np.mean(accuracies))\n",
        "  avg_r.append(np.mean(recalls))\n",
        "  avg_f.append(np.mean(f1s))\n",
        "\n",
        "  precision_values.extend(precisions)\n",
        "  accuracy_values.extend(accuracies)\n",
        "  recall_values.extend(recalls)\n",
        "  f1_values.extend(f1s)"
      ],
      "metadata": {
        "colab": {
          "base_uri": "https://localhost:8080/"
        },
        "id": "VDDVQLKfwlRs",
        "outputId": "fb7f2301-a0e8-4a75-9f91-dbf481a2acdf"
      },
      "execution_count": null,
      "outputs": [
        {
          "output_type": "stream",
          "name": "stdout",
          "text": [
            "Running iteration number: 0\n",
            "Fold: 1\n",
            "Epoch 1/20\n",
            "41/41 [==============================] - 89s 2s/step - loss: 3.1979 - accuracy: 0.7469 - val_loss: 1.1424 - val_accuracy: 0.8037\n",
            "Epoch 2/20\n",
            "41/41 [==============================] - 88s 2s/step - loss: 0.2436 - accuracy: 0.8933 - val_loss: 0.3919 - val_accuracy: 0.8629\n",
            "Epoch 3/20\n",
            "41/41 [==============================] - 97s 2s/step - loss: 0.1565 - accuracy: 0.9291 - val_loss: 0.2646 - val_accuracy: 0.9034\n",
            "Epoch 4/20\n",
            "41/41 [==============================] - 88s 2s/step - loss: 0.1213 - accuracy: 0.9517 - val_loss: 0.2376 - val_accuracy: 0.9330\n",
            "Epoch 5/20\n",
            "41/41 [==============================] - 96s 2s/step - loss: 0.0833 - accuracy: 0.9696 - val_loss: 0.1702 - val_accuracy: 0.9470\n",
            "Epoch 6/20\n",
            "41/41 [==============================] - 102s 2s/step - loss: 0.0675 - accuracy: 0.9829 - val_loss: 0.1950 - val_accuracy: 0.9346\n",
            "Epoch 7/20\n",
            "41/41 [==============================] - ETA: 0s - loss: 0.0439 - accuracy: 0.9891Restoring model weights from the end of the best epoch: 5.\n",
            "41/41 [==============================] - 90s 2s/step - loss: 0.0439 - accuracy: 0.9891 - val_loss: 0.1936 - val_accuracy: 0.9424\n",
            "Epoch 7: early stopping\n",
            "21/21 [==============================] - 10s 476ms/step\n",
            "0.9475154813122962 0.9470404984423676\n",
            "Fold: 2\n",
            "Epoch 1/20\n",
            "41/41 [==============================] - 87s 2s/step - loss: 0.1388 - accuracy: 0.9564 - val_loss: 0.1222 - val_accuracy: 0.9579\n",
            "Epoch 2/20\n",
            "41/41 [==============================] - 86s 2s/step - loss: 0.0954 - accuracy: 0.9673 - val_loss: 0.1489 - val_accuracy: 0.9579\n",
            "Epoch 3/20\n",
            "41/41 [==============================] - 96s 2s/step - loss: 0.0857 - accuracy: 0.9712 - val_loss: 0.1329 - val_accuracy: 0.9595\n",
            "Epoch 4/20\n",
            "41/41 [==============================] - 96s 2s/step - loss: 0.0320 - accuracy: 0.9922 - val_loss: 0.0566 - val_accuracy: 0.9751\n",
            "Epoch 5/20\n",
            "41/41 [==============================] - 85s 2s/step - loss: 0.0526 - accuracy: 0.9836 - val_loss: 0.1586 - val_accuracy: 0.9408\n",
            "Epoch 6/20\n",
            "41/41 [==============================] - ETA: 0s - loss: 0.0213 - accuracy: 0.9969Restoring model weights from the end of the best epoch: 4.\n",
            "41/41 [==============================] - 86s 2s/step - loss: 0.0213 - accuracy: 0.9969 - val_loss: 0.1133 - val_accuracy: 0.9548\n",
            "Epoch 6: early stopping\n",
            "21/21 [==============================] - 9s 426ms/step\n",
            "0.9751487820848803 0.9750778816199377\n",
            "Fold: 3\n",
            "Epoch 1/20\n",
            "41/41 [==============================] - 90s 2s/step - loss: 0.0743 - accuracy: 0.9712 - val_loss: 0.0231 - val_accuracy: 0.9953\n",
            "Epoch 2/20\n",
            "41/41 [==============================] - 99s 2s/step - loss: 0.0568 - accuracy: 0.9782 - val_loss: 0.0426 - val_accuracy: 0.9860\n",
            "Epoch 3/20\n",
            "41/41 [==============================] - 90s 2s/step - loss: 0.0173 - accuracy: 0.9945 - val_loss: 0.0139 - val_accuracy: 0.9984\n",
            "Epoch 4/20\n",
            "41/41 [==============================] - 99s 2s/step - loss: 0.0114 - accuracy: 0.9961 - val_loss: 0.0327 - val_accuracy: 0.9922\n",
            "Epoch 5/20\n",
            "41/41 [==============================] - ETA: 0s - loss: 0.0118 - accuracy: 0.9961Restoring model weights from the end of the best epoch: 3.\n",
            "41/41 [==============================] - 90s 2s/step - loss: 0.0118 - accuracy: 0.9961 - val_loss: 0.0084 - val_accuracy: 0.9984\n",
            "Epoch 5: early stopping\n",
            "21/21 [==============================] - 11s 487ms/step\n",
            "0.9984471310030771 0.9984423676012462\n",
            "Running iteration number: 1\n",
            "Fold: 1\n",
            "Epoch 1/20\n",
            "41/41 [==============================] - 106s 3s/step - loss: 2.8539 - accuracy: 0.8037 - val_loss: 0.9248 - val_accuracy: 0.8053\n",
            "Epoch 2/20\n",
            "41/41 [==============================] - 87s 2s/step - loss: 0.1490 - accuracy: 0.9470 - val_loss: 0.2813 - val_accuracy: 0.9143\n",
            "Epoch 3/20\n",
            "41/41 [==============================] - 87s 2s/step - loss: 0.0593 - accuracy: 0.9813 - val_loss: 0.1914 - val_accuracy: 0.9502\n",
            "Epoch 4/20\n",
            "41/41 [==============================] - 88s 2s/step - loss: 0.0283 - accuracy: 0.9914 - val_loss: 0.2066 - val_accuracy: 0.9439\n",
            "Epoch 5/20\n",
            "41/41 [==============================] - 88s 2s/step - loss: 0.0217 - accuracy: 0.9953 - val_loss: 0.1783 - val_accuracy: 0.9579\n",
            "Epoch 6/20\n",
            "41/41 [==============================] - 87s 2s/step - loss: 0.0175 - accuracy: 0.9961 - val_loss: 0.1758 - val_accuracy: 0.9548\n",
            "Epoch 7/20\n",
            "41/41 [==============================] - ETA: 0s - loss: 0.0057 - accuracy: 0.9992Restoring model weights from the end of the best epoch: 5.\n",
            "41/41 [==============================] - 97s 2s/step - loss: 0.0057 - accuracy: 0.9992 - val_loss: 0.1869 - val_accuracy: 0.9533\n",
            "Epoch 7: early stopping\n",
            "21/21 [==============================] - 11s 532ms/step\n",
            "0.9581845540430719 0.9579439252336449\n",
            "Fold: 2\n",
            "Epoch 1/20\n",
            "41/41 [==============================] - 99s 2s/step - loss: 0.1066 - accuracy: 0.9766 - val_loss: 0.0370 - val_accuracy: 0.9953\n",
            "Epoch 2/20\n",
            "41/41 [==============================] - 90s 2s/step - loss: 0.0384 - accuracy: 0.9907 - val_loss: 0.0214 - val_accuracy: 0.9938\n",
            "Epoch 3/20\n",
            "41/41 [==============================] - ETA: 0s - loss: 0.0212 - accuracy: 0.9969Restoring model weights from the end of the best epoch: 1.\n",
            "41/41 [==============================] - 101s 2s/step - loss: 0.0212 - accuracy: 0.9969 - val_loss: 0.0658 - val_accuracy: 0.9813\n",
            "Epoch 3: early stopping\n",
            "21/21 [==============================] - 10s 461ms/step\n",
            "0.9953699734202178 0.9953271028037384\n",
            "Fold: 3\n",
            "Epoch 1/20\n",
            "41/41 [==============================] - 87s 2s/step - loss: 0.0604 - accuracy: 0.9844 - val_loss: 0.0208 - val_accuracy: 0.9969\n",
            "Epoch 2/20\n",
            "41/41 [==============================] - 86s 2s/step - loss: 0.0209 - accuracy: 0.9953 - val_loss: 0.0374 - val_accuracy: 0.9891\n",
            "Epoch 3/20\n",
            "41/41 [==============================] - 87s 2s/step - loss: 0.0117 - accuracy: 0.9969 - val_loss: 0.0121 - val_accuracy: 1.0000\n",
            "Epoch 4/20\n",
            "41/41 [==============================] - 87s 2s/step - loss: 0.0084 - accuracy: 0.9977 - val_loss: 0.0065 - val_accuracy: 1.0000\n",
            "Epoch 5/20\n",
            "41/41 [==============================] - ETA: 0s - loss: 0.0068 - accuracy: 0.9977Restoring model weights from the end of the best epoch: 3.\n",
            "41/41 [==============================] - 86s 2s/step - loss: 0.0068 - accuracy: 0.9977 - val_loss: 0.0038 - val_accuracy: 1.0000\n",
            "Epoch 5: early stopping\n",
            "21/21 [==============================] - 11s 524ms/step\n",
            "1.0 1.0\n",
            "Running iteration number: 2\n",
            "Fold: 1\n",
            "Epoch 1/20\n",
            "41/41 [==============================] - 89s 2s/step - loss: 3.0994 - accuracy: 0.7921 - val_loss: 0.5710 - val_accuracy: 0.8707\n",
            "Epoch 2/20\n",
            "41/41 [==============================] - 97s 2s/step - loss: 0.1783 - accuracy: 0.9322 - val_loss: 0.4098 - val_accuracy: 0.9128\n",
            "Epoch 3/20\n",
            "41/41 [==============================] - 97s 2s/step - loss: 0.1019 - accuracy: 0.9618 - val_loss: 0.4344 - val_accuracy: 0.8910\n",
            "Epoch 4/20\n",
            "41/41 [==============================] - 97s 2s/step - loss: 0.0539 - accuracy: 0.9852 - val_loss: 0.2293 - val_accuracy: 0.9424\n",
            "Epoch 5/20\n",
            "41/41 [==============================] - 89s 2s/step - loss: 0.0289 - accuracy: 0.9922 - val_loss: 0.2164 - val_accuracy: 0.9439\n",
            "Epoch 6/20\n",
            "41/41 [==============================] - 98s 2s/step - loss: 0.0182 - accuracy: 0.9977 - val_loss: 0.2034 - val_accuracy: 0.9455\n",
            "Epoch 7/20\n",
            "41/41 [==============================] - 89s 2s/step - loss: 0.0141 - accuracy: 0.9977 - val_loss: 0.2033 - val_accuracy: 0.9470\n",
            "Epoch 8/20\n",
            "41/41 [==============================] - 99s 2s/step - loss: 0.0112 - accuracy: 0.9977 - val_loss: 0.2005 - val_accuracy: 0.9470\n",
            "Epoch 9/20\n",
            "41/41 [==============================] - 89s 2s/step - loss: 0.0099 - accuracy: 0.9977 - val_loss: 0.2068 - val_accuracy: 0.9486\n",
            "Epoch 10/20\n",
            "41/41 [==============================] - 99s 2s/step - loss: 0.0107 - accuracy: 0.9977 - val_loss: 0.2005 - val_accuracy: 0.9486\n",
            "Epoch 11/20\n",
            "41/41 [==============================] - 89s 2s/step - loss: 0.0073 - accuracy: 0.9984 - val_loss: 0.2129 - val_accuracy: 0.9502\n",
            "Epoch 12/20\n",
            "41/41 [==============================] - 87s 2s/step - loss: 0.0044 - accuracy: 0.9992 - val_loss: 0.2114 - val_accuracy: 0.9470\n",
            "Epoch 13/20\n",
            "41/41 [==============================] - ETA: 0s - loss: 0.0040 - accuracy: 0.9992Restoring model weights from the end of the best epoch: 11.\n",
            "41/41 [==============================] - 89s 2s/step - loss: 0.0040 - accuracy: 0.9992 - val_loss: 0.2220 - val_accuracy: 0.9439\n",
            "Epoch 13: early stopping\n",
            "21/21 [==============================] - 11s 484ms/step\n",
            "0.9506313507983719 0.9501557632398754\n",
            "Fold: 2\n",
            "Epoch 1/20\n",
            "41/41 [==============================] - 98s 2s/step - loss: 0.1894 - accuracy: 0.9533 - val_loss: 0.4323 - val_accuracy: 0.9097\n",
            "Epoch 2/20\n",
            "41/41 [==============================] - 89s 2s/step - loss: 0.1718 - accuracy: 0.9517 - val_loss: 0.1130 - val_accuracy: 0.9657\n",
            "Epoch 3/20\n",
            "41/41 [==============================] - 99s 2s/step - loss: 0.0516 - accuracy: 0.9782 - val_loss: 0.1063 - val_accuracy: 0.9673\n",
            "Epoch 4/20\n",
            "41/41 [==============================] - 88s 2s/step - loss: 0.0269 - accuracy: 0.9907 - val_loss: 0.0542 - val_accuracy: 0.9829\n",
            "Epoch 5/20\n",
            "41/41 [==============================] - 98s 2s/step - loss: 0.0228 - accuracy: 0.9891 - val_loss: 0.0879 - val_accuracy: 0.9751\n",
            "Epoch 6/20\n",
            "41/41 [==============================] - ETA: 0s - loss: 0.0236 - accuracy: 0.9922Restoring model weights from the end of the best epoch: 4.\n",
            "41/41 [==============================] - 93s 2s/step - loss: 0.0236 - accuracy: 0.9922 - val_loss: 0.0944 - val_accuracy: 0.9688\n",
            "Epoch 6: early stopping\n",
            "21/21 [==============================] - 11s 549ms/step\n",
            "0.9830923929113918 0.9828660436137072\n",
            "Fold: 3\n",
            "Epoch 1/20\n",
            "41/41 [==============================] - 102s 3s/step - loss: 0.0830 - accuracy: 0.9727 - val_loss: 0.0630 - val_accuracy: 0.9829\n",
            "Epoch 2/20\n",
            "41/41 [==============================] - 101s 2s/step - loss: 0.0531 - accuracy: 0.9821 - val_loss: 0.0422 - val_accuracy: 0.9891\n",
            "Epoch 3/20\n",
            "41/41 [==============================] - 93s 2s/step - loss: 0.0695 - accuracy: 0.9813 - val_loss: 0.0909 - val_accuracy: 0.9533\n",
            "Epoch 4/20\n",
            "41/41 [==============================] - ETA: 0s - loss: 0.0514 - accuracy: 0.9774Restoring model weights from the end of the best epoch: 2.\n",
            "41/41 [==============================] - 102s 2s/step - loss: 0.0514 - accuracy: 0.9774 - val_loss: 0.1528 - val_accuracy: 0.9548\n",
            "Epoch 4: early stopping\n",
            "21/21 [==============================] - 11s 538ms/step\n",
            "0.9893257743725034 0.9890965732087228\n"
          ]
        }
      ]
    },
    {
      "cell_type": "code",
      "source": [
        "precision_min = np.min(precision_values)\n",
        "precision_max = np.max(precision_values)\n",
        "precision_std = np.std(precision_values)\n",
        "\n",
        "accuracy_min = np.min(accuracy_values)\n",
        "accuracy_max = np.max(accuracy_values)\n",
        "accuracy_std = np.std(accuracy_values)\n",
        "\n",
        "recall_min = np.min(recall_values)\n",
        "recall_max = np.max(recall_values)\n",
        "recall_std = np.std(recall_values)\n",
        "\n",
        "f1_min = np.min(f1_values)\n",
        "f1_max = np.max(f1_values)\n",
        "f1_std = np.std(f1_values)"
      ],
      "metadata": {
        "id": "yetIABEy8tJ0"
      },
      "execution_count": null,
      "outputs": []
    },
    {
      "cell_type": "code",
      "source": [
        "print(f'The precision values after 10 runs are -> Min: {np.min(precision_values)}, Mean: {np.mean(avg_p)}, Max: {np.max(precision_values)}, Std: {np.std(precision_values)}')\n",
        "print(f'The accuracy values after 10 runs are -> Min: {np.min(accuracy_values)}, Mean: {np.mean(avg_a)}, Max: {np.max(accuracy_values)}, Std: {np.std(accuracy_values)}')\n",
        "print(f'The recall values after 10 runs are -> Min: {np.min(recall_values)}, Mean: {np.mean(avg_r)}, Max: {np.max(recall_values)}, Std: {np.std(recall_values)}')\n",
        "print(f'The F1 values after 10 runs are -> Min: {np.min(f1_values)}, Mean: {np.mean(avg_f)}, Max: {np.max(f1_values)}, Std: {np.std(f1_values)}')"
      ],
      "metadata": {
        "colab": {
          "base_uri": "https://localhost:8080/"
        },
        "id": "Hw-cdtXfahhP",
        "outputId": "dc25a9db-c85b-44a1-d68b-86c4240dd5a9"
      },
      "execution_count": null,
      "outputs": [
        {
          "output_type": "stream",
          "name": "stdout",
          "text": [
            "The precision values after 10 runs are -> Min: 0.9475154813122962, Mean: 0.9775239377717567, Max: 1.0, Std: 0.019536567528567937\n",
            "The accuracy values after 10 runs are -> Min: 0.9470404984423676, Mean: 0.9773277950848045, Max: 1.0, Std: 0.01969049865465961\n",
            "The recall values after 10 runs are -> Min: 0.9470404984423676, Mean: 0.9773277950848045, Max: 1.0, Std: 0.01969049865465961\n",
            "The F1 values after 10 runs are -> Min: 0.9470482085957506, Mean: 0.9773290944893888, Max: 1.0, Std: 0.019687032363519933\n"
          ]
        }
      ]
    }
  ]
}